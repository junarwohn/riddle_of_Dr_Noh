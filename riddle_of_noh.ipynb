{
  "nbformat": 4,
  "nbformat_minor": 0,
  "metadata": {
    "colab": {
      "name": "riddle_of_noh.ipynb",
      "provenance": [],
      "collapsed_sections": [],
      "authorship_tag": "ABX9TyMXeItHiclDegYz8rqh22m4",
      "include_colab_link": true
    },
    "kernelspec": {
      "name": "python3",
      "display_name": "Python 3"
    },
    "language_info": {
      "name": "python"
    }
  },
  "cells": [
    {
      "cell_type": "markdown",
      "metadata": {
        "id": "view-in-github",
        "colab_type": "text"
      },
      "source": [
        "<a href=\"https://colab.research.google.com/github/junarwohn/riddle_of_Dr_Noh/blob/main/riddle_of_noh.ipynb\" target=\"_parent\"><img src=\"https://colab.research.google.com/assets/colab-badge.svg\" alt=\"Open In Colab\"/></a>"
      ]
    },
    {
      "cell_type": "code",
      "execution_count": 1,
      "metadata": {
        "colab": {
          "base_uri": "https://localhost:8080/"
        },
        "id": "XIhi2rzn8Ju4",
        "outputId": "232ce565-7619-4aca-bdff-e7e40567fb31"
      },
      "outputs": [
        {
          "output_type": "stream",
          "name": "stdout",
          "text": [
            "Collecting pickle5\n",
            "  Downloading pickle5-0.0.12-cp37-cp37m-manylinux_2_5_x86_64.manylinux1_x86_64.whl (256 kB)\n",
            "\u001b[?25l\r\u001b[K     |█▎                              | 10 kB 16.8 MB/s eta 0:00:01\r\u001b[K     |██▋                             | 20 kB 18.9 MB/s eta 0:00:01\r\u001b[K     |███▉                            | 30 kB 11.6 MB/s eta 0:00:01\r\u001b[K     |█████▏                          | 40 kB 10.2 MB/s eta 0:00:01\r\u001b[K     |██████▍                         | 51 kB 4.7 MB/s eta 0:00:01\r\u001b[K     |███████▊                        | 61 kB 5.5 MB/s eta 0:00:01\r\u001b[K     |█████████                       | 71 kB 6.0 MB/s eta 0:00:01\r\u001b[K     |██████████▎                     | 81 kB 6.2 MB/s eta 0:00:01\r\u001b[K     |███████████▌                    | 92 kB 6.8 MB/s eta 0:00:01\r\u001b[K     |████████████▉                   | 102 kB 5.6 MB/s eta 0:00:01\r\u001b[K     |██████████████                  | 112 kB 5.6 MB/s eta 0:00:01\r\u001b[K     |███████████████▍                | 122 kB 5.6 MB/s eta 0:00:01\r\u001b[K     |████████████████▋               | 133 kB 5.6 MB/s eta 0:00:01\r\u001b[K     |██████████████████              | 143 kB 5.6 MB/s eta 0:00:01\r\u001b[K     |███████████████████▏            | 153 kB 5.6 MB/s eta 0:00:01\r\u001b[K     |████████████████████▌           | 163 kB 5.6 MB/s eta 0:00:01\r\u001b[K     |█████████████████████▊          | 174 kB 5.6 MB/s eta 0:00:01\r\u001b[K     |███████████████████████         | 184 kB 5.6 MB/s eta 0:00:01\r\u001b[K     |████████████████████████▎       | 194 kB 5.6 MB/s eta 0:00:01\r\u001b[K     |█████████████████████████▋      | 204 kB 5.6 MB/s eta 0:00:01\r\u001b[K     |██████████████████████████▉     | 215 kB 5.6 MB/s eta 0:00:01\r\u001b[K     |████████████████████████████▏   | 225 kB 5.6 MB/s eta 0:00:01\r\u001b[K     |█████████████████████████████▍  | 235 kB 5.6 MB/s eta 0:00:01\r\u001b[K     |██████████████████████████████▊ | 245 kB 5.6 MB/s eta 0:00:01\r\u001b[K     |████████████████████████████████| 256 kB 5.6 MB/s eta 0:00:01\r\u001b[K     |████████████████████████████████| 256 kB 5.6 MB/s \n",
            "\u001b[?25hInstalling collected packages: pickle5\n",
            "Successfully installed pickle5-0.0.12\n"
          ]
        }
      ],
      "source": [
        "!pip3 install pickle5\n",
        "import numpy as np\n",
        "import pickle5 as pickle\n",
        "import matplotlib.pyplot as plt\n",
        "import urllib.request as urllib \n",
        "\n",
        "%matplotlib inline"
      ]
    },
    {
      "cell_type": "code",
      "source": [
        "target_url = 'http://aais.hanyang.ac.kr/classes/2022_Datasets/Dataset{}'\n",
        "dataset_idxs = list(range(1,5))"
      ],
      "metadata": {
        "id": "SUGgq5jJ8Ots"
      },
      "execution_count": 2,
      "outputs": []
    },
    {
      "cell_type": "code",
      "source": [
        "dataset_idxs"
      ],
      "metadata": {
        "colab": {
          "base_uri": "https://localhost:8080/"
        },
        "id": "xSG5uTDx8YdA",
        "outputId": "e81c272b-11c2-4e2c-8971-29471814a8d5"
      },
      "execution_count": 3,
      "outputs": [
        {
          "output_type": "execute_result",
          "data": {
            "text/plain": [
              "[1, 2, 3, 4]"
            ]
          },
          "metadata": {},
          "execution_count": 3
        }
      ]
    },
    {
      "cell_type": "code",
      "source": [
        "total_train_data = []\n",
        "total_test_data = []"
      ],
      "metadata": {
        "id": "XmwxlBBi95IP"
      },
      "execution_count": 28,
      "outputs": []
    },
    {
      "cell_type": "code",
      "source": [
        "for idx in dataset_idxs:\n",
        "  with urllib.urlopen(target_url.format(idx)) as handle:\n",
        "    data = pickle.load(handle)\n",
        "    y = pickle.load(handle)\n",
        "    testdata = pickle.load(handle)\n",
        "    testy = pickle.load(handle)\n",
        "    print(data.shape, y.shape)\n",
        "    total_train_data.append([data, y])\n",
        "    total_test_data.append([testdata, testy])"
      ],
      "metadata": {
        "colab": {
          "base_uri": "https://localhost:8080/"
        },
        "id": "xzy_V4fl8bMe",
        "outputId": "eaa68731-c3cb-4fa6-df25-5f02682cd6ad"
      },
      "execution_count": 29,
      "outputs": [
        {
          "output_type": "stream",
          "name": "stdout",
          "text": [
            "(700, 200) (700,)\n",
            "(200, 80) (200,)\n",
            "(60000, 784) (60000,)\n",
            "(200, 100) (200,)\n"
          ]
        }
      ]
    },
    {
      "cell_type": "code",
      "source": [
        "print(len(total_data))"
      ],
      "metadata": {
        "colab": {
          "base_uri": "https://localhost:8080/"
        },
        "id": "aXh0XbdB8s0S",
        "outputId": "50f5f078-7d6f-46b1-a795-292c97bef9da"
      },
      "execution_count": 6,
      "outputs": [
        {
          "output_type": "stream",
          "name": "stdout",
          "text": [
            "4\n"
          ]
        }
      ]
    },
    {
      "cell_type": "code",
      "source": [
        "data_1, label_1 = total_data[0]"
      ],
      "metadata": {
        "id": "U2-KdOeAAOFS"
      },
      "execution_count": 7,
      "outputs": []
    },
    {
      "cell_type": "code",
      "source": [
        "data_1[0][0]"
      ],
      "metadata": {
        "colab": {
          "base_uri": "https://localhost:8080/"
        },
        "id": "YL1K747IQ1X9",
        "outputId": "123efd88-e97a-4e90-d2a2-38284a91fa44"
      },
      "execution_count": 8,
      "outputs": [
        {
          "output_type": "execute_result",
          "data": {
            "text/plain": [
              "83.79198843706632"
            ]
          },
          "metadata": {},
          "execution_count": 8
        }
      ]
    },
    {
      "cell_type": "code",
      "source": [
        "for data, label in total_data:\n",
        "  print(np.unique(label, return_counts=True))"
      ],
      "metadata": {
        "colab": {
          "base_uri": "https://localhost:8080/"
        },
        "id": "BOZlqsPnQ_L3",
        "outputId": "5126864d-c010-4130-b318-43cfbbb7ee1b"
      },
      "execution_count": 9,
      "outputs": [
        {
          "output_type": "stream",
          "name": "stdout",
          "text": [
            "(array([0., 1.]), array([200, 500]))\n",
            "(array([0., 1.]), array([100, 100]))\n",
            "(array([0, 1, 2, 3, 4, 5, 6, 7, 8, 9]), array([5923, 6742, 5958, 6131, 5842, 5421, 5918, 6265, 5851, 5949]))\n",
            "(array([0., 1.]), array([100, 100]))\n"
          ]
        }
      ]
    },
    {
      "cell_type": "code",
      "source": [
        "np.sqrt(784)"
      ],
      "metadata": {
        "colab": {
          "base_uri": "https://localhost:8080/"
        },
        "id": "kS4v4mp_RQNA",
        "outputId": "57196815-5bcd-4b14-a6dc-3227d35dc013"
      },
      "execution_count": 10,
      "outputs": [
        {
          "output_type": "execute_result",
          "data": {
            "text/plain": [
              "28.0"
            ]
          },
          "metadata": {},
          "execution_count": 10
        }
      ]
    },
    {
      "cell_type": "code",
      "source": [
        "data_3, label_3 = total_data[2]"
      ],
      "metadata": {
        "id": "91nQyPyPSboZ"
      },
      "execution_count": 11,
      "outputs": []
    },
    {
      "cell_type": "code",
      "source": [
        "data_3_reshaped = data_3.reshape(-1,28,28)"
      ],
      "metadata": {
        "id": "lygTV8xTSi2V"
      },
      "execution_count": 12,
      "outputs": []
    },
    {
      "cell_type": "code",
      "source": [
        "data_3_reshaped.shape"
      ],
      "metadata": {
        "colab": {
          "base_uri": "https://localhost:8080/"
        },
        "id": "Hr565netSupL",
        "outputId": "0f4645a1-b33d-4ab1-b56f-d176c40a8e10"
      },
      "execution_count": 13,
      "outputs": [
        {
          "output_type": "execute_result",
          "data": {
            "text/plain": [
              "(60000, 28, 28)"
            ]
          },
          "metadata": {},
          "execution_count": 13
        }
      ]
    },
    {
      "cell_type": "code",
      "source": [
        "plt.imshow(data_3_reshaped[10])"
      ],
      "metadata": {
        "colab": {
          "base_uri": "https://localhost:8080/",
          "height": 282
        },
        "id": "W3ijz4hmSwK5",
        "outputId": "324ca5dc-563c-4933-dd72-2c1f2978b7dc"
      },
      "execution_count": 14,
      "outputs": [
        {
          "output_type": "execute_result",
          "data": {
            "text/plain": [
              "<matplotlib.image.AxesImage at 0x7f88e325d450>"
            ]
          },
          "metadata": {},
          "execution_count": 14
        },
        {
          "output_type": "display_data",
          "data": {
            "text/plain": [
              "<Figure size 432x288 with 1 Axes>"
            ],
            "image/png": "[encoded data removed]"
          },
          "metadata": {
            "needs_background": "light"
          }
        }
      ]
    },
    {
      "cell_type": "code",
      "source": [
        "for i in range(10):\n",
        "  plt.plot(data_3[i])\n",
        "  print(label_3[i])\n",
        "  plt.show()"
      ],
      "metadata": {
        "id": "-VC97eHHSzoX"
      },
      "execution_count": null,
      "outputs": []
    },
    {
      "cell_type": "code",
      "source": [
        "for i in range(10):\n",
        "  plt.plot(total_data[0][0][i])\n",
        "  print(total_data[0][1][i])\n",
        "  plt.show()"
      ],
      "metadata": {
        "id": "stmJ1IY9S5fI"
      },
      "execution_count": null,
      "outputs": []
    },
    {
      "cell_type": "code",
      "source": [
        "for i in range(10):\n",
        "  plt.plot(total_data[1][0][i])\n",
        "  print(total_data[1][1][i])\n",
        "  plt.show()"
      ],
      "metadata": {
        "id": "9n0aUJlwTDAE"
      },
      "execution_count": null,
      "outputs": []
    },
    {
      "cell_type": "code",
      "source": [
        "total_data = np.array(total_data)"
      ],
      "metadata": {
        "id": "ZnRhGXwcZA2r",
        "colab": {
          "base_uri": "https://localhost:8080/"
        },
        "outputId": "0171c813-491d-4c14-ad08-31187b4c0637"
      },
      "execution_count": 16,
      "outputs": [
        {
          "output_type": "stream",
          "name": "stderr",
          "text": [
            "/usr/local/lib/python3.7/dist-packages/ipykernel_launcher.py:1: VisibleDeprecationWarning: Creating an ndarray from ragged nested sequences (which is a list-or-tuple of lists-or-tuples-or ndarrays with different lengths or shapes) is deprecated. If you meant to do this, you must specify 'dtype=object' when creating the ndarray.\n",
            "  \"\"\"Entry point for launching an IPython kernel.\n"
          ]
        }
      ]
    },
    {
      "cell_type": "code",
      "source": [
        "for data in total_data:\n",
        "  print(\"y shape\", data[1].shape)\n",
        "  print(np.unique(data[1]))"
      ],
      "metadata": {
        "colab": {
          "base_uri": "https://localhost:8080/"
        },
        "id": "U_neDQ75ZXYA",
        "outputId": "57646bbd-8a2a-4584-9334-4e6fdde5cbbf"
      },
      "execution_count": 24,
      "outputs": [
        {
          "output_type": "stream",
          "name": "stdout",
          "text": [
            "y shape (700,)\n",
            "[0. 1.]\n",
            "y shape (200,)\n",
            "[0. 1.]\n",
            "y shape (60000,)\n",
            "[0 1 2 3 4 5 6 7 8 9]\n",
            "y shape (200,)\n",
            "[0. 1.]\n"
          ]
        }
      ]
    },
    {
      "cell_type": "code",
      "source": [
        "from sklearn.neighbors import KNeighborsClassifier"
      ],
      "metadata": {
        "id": "CkxUj6DxZfhV"
      },
      "execution_count": 25,
      "outputs": []
    },
    {
      "cell_type": "code",
      "source": [
        "classifier = KNeighborsClassifier(n_neighbors = 5)"
      ],
      "metadata": {
        "id": "vvMO9QC-a8se"
      },
      "execution_count": 35,
      "outputs": []
    },
    {
      "cell_type": "code",
      "source": [
        "classifier.fit(total_train_data[0][0], total_train_data[0][1])\n"
      ],
      "metadata": {
        "colab": {
          "base_uri": "https://localhost:8080/"
        },
        "id": "ogtH5QZpa-jQ",
        "outputId": "fd9bdea8-205d-46bc-958c-07da65fdf66b"
      },
      "execution_count": 36,
      "outputs": [
        {
          "output_type": "execute_result",
          "data": {
            "text/plain": [
              "KNeighborsClassifier()"
            ]
          },
          "metadata": {},
          "execution_count": 36
        }
      ]
    },
    {
      "cell_type": "code",
      "source": [
        "guesses = classifier.predict(total_test_data[0][0])"
      ],
      "metadata": {
        "id": "2Z7AYzxPbiVH"
      },
      "execution_count": 37,
      "outputs": []
    },
    {
      "cell_type": "code",
      "source": [
        "classifier.score(total_test_data[0][0], total_test_data[0][1])"
      ],
      "metadata": {
        "colab": {
          "base_uri": "https://localhost:8080/"
        },
        "id": "urYlGxLjb9RO",
        "outputId": "76a22a7b-719c-4af3-f238-913ed3fd2319"
      },
      "execution_count": 38,
      "outputs": [
        {
          "output_type": "execute_result",
          "data": {
            "text/plain": [
              "0.6885714285714286"
            ]
          },
          "metadata": {},
          "execution_count": 38
        }
      ]
    },
    {
      "cell_type": "code",
      "source": [
        "for train_data, test_data in zip(total_train_data, total_test_data):\n",
        "  classifier = KNeighborsClassifier(n_neighbors = 5)\n",
        "  classifier.fit(train_data[0], train_data[1])\n",
        "  guesses = classifier.predict(test_data[0])\n",
        "  print(classifier.score(test_data[0], test_data[1]))"
      ],
      "metadata": {
        "colab": {
          "base_uri": "https://localhost:8080/"
        },
        "id": "53o0I05zcA2b",
        "outputId": "d3fccfb6-7a31-40ad-d1b1-aa9416d31a1e"
      },
      "execution_count": 39,
      "outputs": [
        {
          "output_type": "stream",
          "name": "stdout",
          "text": [
            "0.6885714285714286\n",
            "0.73\n",
            "0.9674333333333334\n",
            "0.85\n"
          ]
        }
      ]
    },
    {
      "cell_type": "code",
      "source": [
        ""
      ],
      "metadata": {
        "id": "HGwvTNUylR28"
      },
      "execution_count": null,
      "outputs": []
    }
  ]
}